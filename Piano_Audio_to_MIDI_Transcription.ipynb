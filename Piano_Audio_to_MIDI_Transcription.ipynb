{
  "cells": [
    {
      "cell_type": "code",
      "source": [
        "# Downloads a checkpoint file.\n",
        "#\n",
        "# It is advisable to use this file from Google Drive because the server used\n",
        "# within the `piano_transcription_inference` Python package for downloading has\n",
        "# slow download speeds (approximately 2mbps).\n",
        "#\n",
        "!gdown '1F3jUW2WQyIGbiPqUTcyE4zpd38v0sY7V'"
      ],
      "metadata": {
        "id": "sdPm3KKqTNq-"
      },
      "execution_count": null,
      "outputs": []
    },
    {
      "cell_type": "code",
      "source": [
        "!pip install --upgrade \\\n",
        "  git+https://github.com/librosa/librosa.git@0.8.1 \\\n",
        "  git+https://github.com/qiuqiangkong/piano_transcription_inference.git \\\n",
        "  git+https://github.com/ytdl-org/youtube-dl.git \\\n",
        "  git+https://github.com/spotDL/spotify-downloader.git \\\n",
        "  > /dev/null 2>&1"
      ],
      "metadata": {
        "id": "klfgZ03Bp532",
        "collapsed": true
      },
      "execution_count": null,
      "outputs": []
    },
    {
      "cell_type": "code",
      "source": [
        "!rm -rf *.mp3\n",
        "\n",
        "# ---\n",
        "# You can use 'youtube-dl' to download audio/video files from YouTube!\n",
        "# ---\n",
        "\n",
        "# !youtube-dl -x --audio-format 'mp3' -f '(bestvideo+bestaudio/best)[protocol^=http][ext=mp4]' 'https://www.youtube.com/playlist?list=OLAK5uy_nDowl3ctSx-IyCvpXPaBeSLzVCjjKQUrA'\n",
        "\n",
        "# ---\n",
        "# Or from Spotify too!\n",
        "# Uncomment those lines below.\n",
        "# ---\n",
        "\n",
        "!spotdl download 'https://open.spotify.com/playlist/0XUG1CSzpasBfhwj8PcaWk' --format mp3 > /dev/null 2>&1"
      ],
      "metadata": {
        "id": "SU2PJLVVp7M8"
      },
      "execution_count": null,
      "outputs": []
    },
    {
      "cell_type": "code",
      "source": [
        "import os\n",
        "import ipywidgets as widgets\n",
        "from IPython.display import display, HTML\n",
        "from piano_transcription_inference import PianoTranscription, sample_rate, load_audio\n",
        "import datetime\n",
        "import base64\n",
        "import mimetypes\n",
        "\n",
        "\n",
        "# Function to transcribe audio and save as MIDI\n",
        "def transcribe_to_midi(audio_file_path):\n",
        "    \"\"\"\n",
        "    Transcribe the input audio file to MIDI format and save the MIDI file.\n",
        "\n",
        "    Args:\n",
        "        audio_file_path (str): Path to the input audio file.\n",
        "\n",
        "    Returns:\n",
        "        str: Path to the generated MIDI file.\n",
        "    \"\"\"\n",
        "\n",
        "    # Get the current UTC date and time as a formatted string\n",
        "    current_utc_time = datetime.datetime.utcnow().strftime('%Y-%m-%d_%H-%M-%S')\n",
        "\n",
        "    # Create a MIDI file name with the current UTC date and time\n",
        "    midi_file_path = f'{audio_file_path}_{current_utc_time}.mid'\n",
        "\n",
        "    (audio, _) = load_audio(audio_file_path, sr=sample_rate, mono=True)\n",
        "\n",
        "    transcriptor = PianoTranscription(\n",
        "        device='cuda',\n",
        "        checkpoint_path='/content/note_F1=0.9677_pedal_F1=0.9186.pth')\n",
        "    transcribed_dict = transcriptor.transcribe(audio, midi_file_path)\n",
        "\n",
        "    return midi_file_path\n",
        "\n",
        "\n",
        "# Function to get a list of MP3 files in the current directory (case-insensitive)\n",
        "def get_mp3_files_in_current_directory():\n",
        "    \"\"\"\n",
        "    Get a list of MP3 files in the current directory (case-insensitive).\n",
        "\n",
        "    Returns:\n",
        "        list: List of MP3 file names.\n",
        "    \"\"\"\n",
        "    mp3_files = []\n",
        "    for filename in os.listdir('.'):\n",
        "        if filename.lower().endswith('.mp3'):\n",
        "            mp3_files.append(filename)\n",
        "    return mp3_files\n",
        "\n",
        "\n",
        "# Iterate through MP3 files and transcribe them to MIDI\n",
        "mp3_files = get_mp3_files_in_current_directory()\n",
        "for mp3_file in mp3_files:\n",
        "    print(f\"Processing MP3 file: {mp3_file}\")\n",
        "    midi_file_path = transcribe_to_midi(mp3_file)\n",
        "\n",
        "    def get_mime_type(file_path):\n",
        "        \"\"\"\n",
        "        Get the MIME type of a file based on its extension.\n",
        "\n",
        "        Args:\n",
        "            file_path (str): Path to the file.\n",
        "\n",
        "        Returns:\n",
        "            str: MIME type.\n",
        "        \"\"\"\n",
        "        mime, _ = mimetypes.guess_type(file_path)\n",
        "        return mime or 'application/octet-stream'\n",
        "\n",
        "    def file_to_base64_uri(file_path):\n",
        "        \"\"\"\n",
        "        Convert a file to a base64-encoded data URI.\n",
        "\n",
        "        Args:\n",
        "            file_path (str): Path to the file.\n",
        "\n",
        "        Returns:\n",
        "            str: Base64-encoded data URI.\n",
        "        \"\"\"\n",
        "        try:\n",
        "            with open(file_path, 'rb') as file:\n",
        "                file_content = file.read()\n",
        "                base64_data = base64.b64encode(file_content).decode('utf-8')\n",
        "                base64_uri = f\"data:{get_mime_type(file_path)};base64,{base64_data}\"\n",
        "                return base64_uri\n",
        "        except FileNotFoundError:\n",
        "            return \"File not found\"\n",
        "        except Exception as e:\n",
        "            return str(e)\n",
        "\n",
        "    base64_uri = file_to_base64_uri(midi_file_path)\n",
        "\n",
        "    display(\n",
        "        HTML(\n",
        "            f'<a href=\"{base64_uri}\" download=\"{midi_file_path}\"><button>Download MIDI File</button></a>'\n",
        "        ))\n"
      ],
      "metadata": {
        "id": "bk3U5vcPiBfL"
      },
      "execution_count": null,
      "outputs": []
    }
  ],
  "metadata": {
    "accelerator": "GPU",
    "colab": {
      "provenance": []
    },
    "kernelspec": {
      "display_name": "Python 3",
      "name": "python3"
    },
    "language_info": {
      "name": "python"
    }
  },
  "nbformat": 4,
  "nbformat_minor": 0
}